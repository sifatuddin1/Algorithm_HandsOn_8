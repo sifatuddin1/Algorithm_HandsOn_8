{
 "cells": [
  {
   "cell_type": "code",
   "execution_count": 20,
   "metadata": {},
   "outputs": [],
   "source": [
    "\n",
    "STACK_MAX = 100\n",
    "QUEUE_MAX = 100\n",
    "LIST_MAX = 100\n"
   ]
  },
  {
   "cell_type": "markdown",
   "metadata": {},
   "source": [
    "Stack implementation \n"
   ]
  },
  {
   "cell_type": "code",
   "execution_count": 21,
   "metadata": {},
   "outputs": [],
   "source": [
    "\n",
    "class Stack:\n",
    "    def __init__(self, capacity=STACK_MAX):\n",
    "        self.capacity = capacity\n",
    "        self.data = [0] * capacity \n",
    "        self.top = -1\n",
    "\n",
    "    def is_empty(self):\n",
    "        return self.top == -1\n",
    "\n",
    "    def is_full(self):\n",
    "        return self.top == self.capacity - 1\n",
    "\n",
    "    def push(self, x):\n",
    "        if self.is_full():\n",
    "            print(\"Stack overflow\")\n",
    "            return\n",
    "        self.top += 1\n",
    "        self.data[self.top] = x\n",
    "\n",
    "    def pop(self):\n",
    "        if self.is_empty():\n",
    "            print(\"Stack underflow\")\n",
    "            return None\n",
    "        x = self.data[self.top]\n",
    "        self.top -= 1\n",
    "        return x\n",
    "\n",
    "    def peek(self):\n",
    "        if self.is_empty():\n",
    "            print(\"Stack is empty\")\n",
    "            return None\n",
    "        return self.data[self.top]"
   ]
  },
  {
   "cell_type": "code",
   "execution_count": null,
   "metadata": {},
   "outputs": [],
   "source": []
  },
  {
   "cell_type": "markdown",
   "metadata": {},
   "source": [
    "Queue Implementation"
   ]
  },
  {
   "cell_type": "code",
   "execution_count": 22,
   "metadata": {},
   "outputs": [],
   "source": [
    "class Queue:\n",
    "    def __init__(self, capacity=QUEUE_MAX):\n",
    "        self.capacity = capacity\n",
    "        self.data = [0] * capacity  \n",
    "        self.front = 0\n",
    "        self.rear = -1\n",
    "        self.count = 0\n",
    "\n",
    "    def is_empty(self):\n",
    "        return self.count == 0\n",
    "\n",
    "    def is_full(self):\n",
    "        return self.count == self.capacity\n",
    "\n",
    "    def enqueue(self, x):\n",
    "        if self.is_full():\n",
    "            print(\"Queue overflow\")\n",
    "            return\n",
    "        self.rear = (self.rear + 1) % self.capacity\n",
    "        self.data[self.rear] = x\n",
    "        self.count += 1\n",
    "\n",
    "    def dequeue(self):\n",
    "        if self.is_empty():\n",
    "            print(\"Queue underflow\")\n",
    "            return None\n",
    "        x = self.data[self.front]\n",
    "        self.front = (self.front + 1) % self.capacity\n",
    "        self.count -= 1\n",
    "        return x\n",
    "\n",
    "    def front_element(self):\n",
    "        if self.is_empty():\n",
    "            print(\"Queue is empty\")\n",
    "            return None\n",
    "        return self.data[self.front]"
   ]
  },
  {
   "cell_type": "markdown",
   "metadata": {},
   "source": [
    "\n",
    "Static Singly Linked List Implementation"
   ]
  },
  {
   "cell_type": "code",
   "execution_count": 23,
   "metadata": {},
   "outputs": [],
   "source": [
    "\n",
    "class StaticSinglyLinkedList:\n",
    "    def __init__(self):\n",
    "        \n",
    "        self.list = [{'data': 0, 'next': i + 1} for i in range(LIST_MAX)]\n",
    "        self.list[LIST_MAX - 1]['next'] = -1\n",
    "        self.head = -1  \n",
    "        self.freeList = 0  \n",
    "\n",
    "    def allocate_node(self):\n",
    "        if self.freeList == -1:\n",
    "            print(\"Out of space for new node\")\n",
    "            return -1\n",
    "        new_node = self.freeList\n",
    "        self.freeList = self.list[new_node]['next']\n",
    "        return new_node\n",
    "\n",
    "    def free_node(self, index):\n",
    "        self.list[index]['next'] = self.freeList\n",
    "        self.freeList = index\n",
    "\n",
    "    def insert_at_beginning(self, data):\n",
    "        new_node = self.allocate_node()\n",
    "        if new_node == -1:\n",
    "            return\n",
    "        self.list[new_node]['data'] = data\n",
    "        self.list[new_node]['next'] = self.head\n",
    "        self.head = new_node\n",
    "\n",
    "    def delete_value(self, data):\n",
    "        current = self.head\n",
    "        prev = -1\n",
    "        while current != -1:\n",
    "            if self.list[current]['data'] == data:\n",
    "                if prev == -1:\n",
    "                    self.head = self.list[current]['next']\n",
    "                else:\n",
    "                    self.list[prev]['next'] = self.list[current]['next']\n",
    "                self.free_node(current)\n",
    "                print(f\"Deleted {data} from the list\")\n",
    "                return\n",
    "            prev = current\n",
    "            current = self.list[current]['next']\n",
    "        print(f\"Value {data} not found in the list\")\n",
    "\n",
    "    def print_list(self):\n",
    "        current = self.head\n",
    "        print(\"Linked List: \", end='')\n",
    "        while current != -1:\n",
    "            print(self.list[current]['data'], end=' -> ')\n",
    "            current = self.list[current]['next']\n",
    "        print(\"NULL\")"
   ]
  },
  {
   "cell_type": "code",
   "execution_count": 25,
   "metadata": {},
   "outputs": [
    {
     "name": "stdout",
     "output_type": "stream",
     "text": [
      " Stack Demo \n",
      "Top element is: 30\n",
      "Popped element is: 30\n",
      "Popped element is: 20\n",
      "\n",
      " Queue Demo \n",
      "Front element is: 100\n",
      "Dequeued element is: 100\n",
      "Dequeued element is: 200\n",
      "\n",
      " Singly Linked List Demo\n",
      "Linked List: 25 -> 15 -> 5 -> NULL\n",
      "Deleted 15 from the list\n",
      "Linked List: 25 -> 5 -> NULL\n",
      "Value 100 not found in the list\n"
     ]
    }
   ],
   "source": [
    "if __name__ == '__main__':\n",
    "    \n",
    "    print(\" Stack Demo \")\n",
    "    s = Stack()\n",
    "    s.push(10)\n",
    "    s.push(20)\n",
    "    s.push(30)\n",
    "    print(\"Top element is:\", s.peek())\n",
    "    print(\"Popped element is:\", s.pop())\n",
    "    print(\"Popped element is:\", s.pop())\n",
    "\n",
    "    \n",
    "    print(\"\\n Queue Demo \")\n",
    "    q = Queue()\n",
    "    q.enqueue(100)\n",
    "    q.enqueue(200)\n",
    "    q.enqueue(300)\n",
    "    print(\"Front element is:\", q.front_element())\n",
    "    print(\"Dequeued element is:\", q.dequeue())\n",
    "    print(\"Dequeued element is:\", q.dequeue())\n",
    "\n",
    "    \n",
    "    print(\"\\n Singly Linked List Demo\")\n",
    "    sll = StaticSinglyLinkedList()\n",
    "    sll.insert_at_beginning(5)\n",
    "    sll.insert_at_beginning(15)\n",
    "    sll.insert_at_beginning(25)\n",
    "    sll.print_list()\n",
    "    sll.delete_value(15)\n",
    "    sll.print_list()\n",
    "    sll.delete_value(100)  "
   ]
  },
  {
   "cell_type": "code",
   "execution_count": null,
   "metadata": {},
   "outputs": [],
   "source": []
  },
  {
   "cell_type": "code",
   "execution_count": null,
   "metadata": {},
   "outputs": [],
   "source": []
  },
  {
   "cell_type": "code",
   "execution_count": null,
   "metadata": {},
   "outputs": [],
   "source": []
  }
 ],
 "metadata": {
  "kernelspec": {
   "display_name": "Python 3",
   "language": "python",
   "name": "python3"
  },
  "language_info": {
   "codemirror_mode": {
    "name": "ipython",
    "version": 3
   },
   "file_extension": ".py",
   "mimetype": "text/x-python",
   "name": "python",
   "nbconvert_exporter": "python",
   "pygments_lexer": "ipython3",
   "version": "3.13.2"
  }
 },
 "nbformat": 4,
 "nbformat_minor": 2
}
