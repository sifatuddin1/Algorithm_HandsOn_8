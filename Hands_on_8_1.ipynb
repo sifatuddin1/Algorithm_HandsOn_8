{
 "cells": [
  {
   "cell_type": "code",
   "execution_count": null,
   "metadata": {},
   "outputs": [
    {
     "name": "stdout",
     "output_type": "stream",
     "text": [
      "The 3rd smallest element is 5\n"
     ]
    }
   ],
   "source": [
    "def swap(arr, i, j):\n",
    "    arr[i], arr[j] = arr[j], arr[i]\n",
    "\n",
    "def partition(arr, low, high):\n",
    "    pivot = arr[high]\n",
    "    i = low\n",
    "    for j in range(low, high):\n",
    "        if arr[j] <= pivot:\n",
    "            swap(arr, i, j)\n",
    "            i += 1\n",
    "    swap(arr, i, high)\n",
    "    return i\n",
    "\n",
    "def quickselect(arr, low, high, i):\n",
    "   \n",
    "    if low == high:\n",
    "        return arr[low]\n",
    "    \n",
    "    pos = partition(arr, low, high)\n",
    "    k = pos - low + 1  \n",
    "    \n",
    "    if i == k:\n",
    "        return arr[pos]\n",
    "    elif i < k:\n",
    "        return quickselect(arr, low, pos - 1, i)\n",
    "    else:\n",
    "        return quickselect(arr, pos + 1, high, i - k)\n",
    "\n",
    "def ordinal(n):\n",
    "    \n",
    "    if 10 <= n % 100 <= 20:\n",
    "        return 'th'\n",
    "    else:\n",
    "        return {1: 'st', 2: 'nd', 3: 'rd'}.get(n % 10, 'th')\n",
    "\n",
    "if __name__ == '__main__':\n",
    "    arr = [12, 3, 5, 7, 4, 19, 26]\n",
    "    i = 3  \n",
    "    result = quickselect(arr, 0, len(arr) - 1, i)\n",
    "    print(f\"The {i}{ordinal(i)} smallest element is {result}\")\n"
   ]
  }
 ],
 "metadata": {
  "kernelspec": {
   "display_name": "Python 3",
   "language": "python",
   "name": "python3"
  },
  "language_info": {
   "codemirror_mode": {
    "name": "ipython",
    "version": 3
   },
   "file_extension": ".py",
   "mimetype": "text/x-python",
   "name": "python",
   "nbconvert_exporter": "python",
   "pygments_lexer": "ipython3",
   "version": "3.13.2"
  }
 },
 "nbformat": 4,
 "nbformat_minor": 2
}
